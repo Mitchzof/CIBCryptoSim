{
 "cells": [
  {
   "cell_type": "code",
   "execution_count": null,
   "metadata": {
    "scrolled": false
   },
   "outputs": [
    {
     "name": "stdout",
     "output_type": "stream",
     "text": [
      "Fox Setup\n",
      "Processed 1005 tickers in 7.895s seconds\n",
      "Top 10 Crypto (Static) : Fox simulate start\n",
      "2017-08-01 00:00:00 : 9801.000\n",
      "2017-11-09 00:00:00 : 15621.624\n",
      "2018-02-17 00:00:00 : 45893.070\n",
      "2018-03-06 00:00:00 : 40942.308\n",
      "Top 10 Crypto (Static) : Fox simulate completed in 1.601s\n",
      "\n",
      "NVDA : Fox simulate start\n",
      "2017-08-01 00:00:00 : 9801.000\n",
      "2017-11-09 00:00:00 : 12233.822\n",
      "2018-02-17 00:00:00 : 14608.251\n",
      "2018-03-06 00:00:00 : 14251.937\n",
      "NVDA : Fox simulate completed in 0.190s\n",
      "\n",
      "Short VXX : Fox simulate start\n",
      "2017-08-01 00:00:00 : 10001.000\n",
      "2017-11-09 00:00:00 : -10766.154\n",
      "2018-02-17 00:00:00 : -17864.991\n",
      "2018-03-06 00:00:00 : -19878.365\n",
      "Short VXX : Fox simulate completed in 0.172s\n",
      "\n",
      "SP500 (VOO) : Fox simulate start\n",
      "2017-08-01 00:00:00 : 9801.000\n",
      "2017-11-09 00:00:00 : 10233.771\n",
      "2018-02-17 00:00:00 : 10828.131\n",
      "2018-03-06 00:00:00 : 10745.503\n",
      "SP500 (VOO) : Fox simulate completed in 0.199s\n",
      "\n",
      "Top 10 Crypto (Weekly re.) : Fox simulate start\n",
      "2017-08-01 00:00:00 : 10000.000\n",
      "2017-11-09 00:00:00 : 16464.156\n",
      "2018-02-17 00:00:00 : 62328.997\n",
      "2018-03-06 00:00:00 : 49634.912\n",
      "Top 10 Crypto (Weekly re.) : Fox simulate completed in 4.982s\n",
      "\n",
      "Crypto 150-500 (Static) : Fox simulate start\n",
      "2017-08-01 00:00:00 : 9925.892\n",
      "2017-11-09 00:00:00 : 13839.439\n",
      "2018-02-17 00:00:00 : 35402.407\n",
      "2018-03-06 00:00:00 : 32393.871\n",
      "Crypto 150-500 (Static) : Fox simulate completed in 17.593s\n",
      "\n",
      "Crypto 150-500 (Weekly re.) : Fox simulate start\n",
      "2017-08-01 00:00:00 : 10000.000\n",
      "2017-11-09 00:00:00 : 25899.515\n"
     ]
    }
   ],
   "source": [
    "import sim"
   ]
  },
  {
   "cell_type": "code",
   "execution_count": null,
   "metadata": {
    "collapsed": true
   },
   "outputs": [],
   "source": []
  },
  {
   "cell_type": "code",
   "execution_count": null,
   "metadata": {
    "collapsed": true
   },
   "outputs": [],
   "source": []
  }
 ],
 "metadata": {
  "kernelspec": {
   "display_name": "Python 3",
   "language": "python",
   "name": "python3"
  },
  "language_info": {
   "codemirror_mode": {
    "name": "ipython",
    "version": 3
   },
   "file_extension": ".py",
   "mimetype": "text/x-python",
   "name": "python",
   "nbconvert_exporter": "python",
   "pygments_lexer": "ipython3",
   "version": "3.6.3"
  }
 },
 "nbformat": 4,
 "nbformat_minor": 2
}
